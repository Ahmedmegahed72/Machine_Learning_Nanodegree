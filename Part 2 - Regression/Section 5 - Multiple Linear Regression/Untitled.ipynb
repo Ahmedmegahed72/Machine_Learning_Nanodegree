{
 "cells": [
  {
   "cell_type": "code",
   "execution_count": 1,
   "id": "50c04625-970f-437f-8f03-8fd3a08c8f76",
   "metadata": {},
   "outputs": [
    {
     "data": {
      "text/plain": [
       "'C:\\\\Users\\\\LOQ\\\\Downloads\\\\S01 - Machine-Learning-A-Z-Codes-Datasets\\\\Machine-Learning-A-Z-Codes-Datasets\\\\Part 2 - Regression\\\\Section 5 - Multiple Linear Regression\\\\Python'"
      ]
     },
     "execution_count": 1,
     "metadata": {},
     "output_type": "execute_result"
    }
   ],
   "source": [
    "pwd"
   ]
  },
  {
   "cell_type": "code",
   "execution_count": 2,
   "id": "d62d8ebf-4a2a-4481-bac8-b1f674873711",
   "metadata": {},
   "outputs": [],
   "source": [
    "#importing libraries "
   ]
  },
  {
   "cell_type": "code",
   "execution_count": null,
   "id": "43015041-e8fe-4547-9b0f-d1d20a75e2f9",
   "metadata": {},
   "outputs": [],
   "source": []
  },
  {
   "cell_type": "code",
   "execution_count": null,
   "id": "7921006a-68c8-474c-8fcc-557e3711c28c",
   "metadata": {},
   "outputs": [],
   "source": []
  },
  {
   "cell_type": "code",
   "execution_count": null,
   "id": "45e5347f-242d-4a54-aeed-db6b10d10177",
   "metadata": {},
   "outputs": [],
   "source": []
  },
  {
   "cell_type": "code",
   "execution_count": null,
   "id": "1c26089e-4059-4629-98c6-4af515595866",
   "metadata": {},
   "outputs": [],
   "source": []
  },
  {
   "cell_type": "code",
   "execution_count": null,
   "id": "313e312a-3c17-420c-94b9-c062572bd005",
   "metadata": {},
   "outputs": [],
   "source": []
  },
  {
   "cell_type": "code",
   "execution_count": null,
   "id": "774ebd72-8ebc-4a0f-bea9-01664cb13c3d",
   "metadata": {},
   "outputs": [],
   "source": []
  },
  {
   "cell_type": "code",
   "execution_count": null,
   "id": "c5050135-5d3c-4db3-94e2-8a86bd8913db",
   "metadata": {},
   "outputs": [],
   "source": []
  },
  {
   "cell_type": "code",
   "execution_count": null,
   "id": "98024c6c-fa26-418f-9d69-68938085b79b",
   "metadata": {},
   "outputs": [],
   "source": []
  },
  {
   "cell_type": "code",
   "execution_count": null,
   "id": "08646f3b-8f4b-434b-899e-55526fc7d62d",
   "metadata": {},
   "outputs": [],
   "source": []
  }
 ],
 "metadata": {
  "kernelspec": {
   "display_name": "Python [conda env:base] *",
   "language": "python",
   "name": "conda-base-py"
  },
  "language_info": {
   "codemirror_mode": {
    "name": "ipython",
    "version": 3
   },
   "file_extension": ".py",
   "mimetype": "text/x-python",
   "name": "python",
   "nbconvert_exporter": "python",
   "pygments_lexer": "ipython3",
   "version": "3.13.5"
  }
 },
 "nbformat": 4,
 "nbformat_minor": 5
}
